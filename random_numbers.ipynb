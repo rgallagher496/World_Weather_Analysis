{
 "cells": [
  {
   "cell_type": "code",
   "execution_count": 1,
   "id": "52a69e61",
   "metadata": {},
   "outputs": [],
   "source": [
    "# Import the random module\n",
    "import random"
   ]
  },
  {
   "cell_type": "code",
   "execution_count": 2,
   "id": "4c4d9809",
   "metadata": {},
   "outputs": [
    {
     "data": {
      "text/plain": [
       "-34"
      ]
     },
     "execution_count": 2,
     "metadata": {},
     "output_type": "execute_result"
    }
   ],
   "source": [
    "random.randint(-90,90)"
   ]
  },
  {
   "cell_type": "code",
   "execution_count": 3,
   "id": "779f22ac",
   "metadata": {},
   "outputs": [
    {
     "data": {
      "text/plain": [
       "0.8075188238573169"
      ]
     },
     "execution_count": 3,
     "metadata": {},
     "output_type": "execute_result"
    }
   ],
   "source": [
    "random.random()"
   ]
  },
  {
   "cell_type": "code",
   "execution_count": 5,
   "id": "147325bb",
   "metadata": {},
   "outputs": [
    {
     "data": {
      "text/plain": [
       "-68.8402662009883"
      ]
     },
     "execution_count": 5,
     "metadata": {},
     "output_type": "execute_result"
    }
   ],
   "source": [
    "random_number = random.randint(-90,89) + random.random()\n",
    "random_number"
   ]
  },
  {
   "cell_type": "code",
   "execution_count": 6,
   "id": "f77decad",
   "metadata": {},
   "outputs": [
    {
     "data": {
      "text/plain": [
       "76.95250421020728"
      ]
     },
     "execution_count": 6,
     "metadata": {},
     "output_type": "execute_result"
    }
   ],
   "source": [
    "random.uniform(-90,90)"
   ]
  },
  {
   "cell_type": "code",
   "execution_count": 7,
   "id": "dc10ab58",
   "metadata": {},
   "outputs": [],
   "source": [
    "#Import the NumPy Module\n",
    "import numpy as np"
   ]
  },
  {
   "cell_type": "code",
   "execution_count": 8,
   "id": "1d4e993a",
   "metadata": {},
   "outputs": [
    {
     "data": {
      "text/plain": [
       "-58.11286859658145"
      ]
     },
     "execution_count": 8,
     "metadata": {},
     "output_type": "execute_result"
    }
   ],
   "source": [
    "np.random.uniform(-90.000,90.000)"
   ]
  },
  {
   "cell_type": "code",
   "execution_count": 9,
   "id": "18d454e4",
   "metadata": {},
   "outputs": [
    {
     "data": {
      "text/plain": [
       "array([-53.6661706 ,  -1.82698491,  37.34532464,  75.32927194,\n",
       "       -71.09604185, -13.27647189,  42.6317902 ,  31.33233758,\n",
       "        75.43899561,  26.37437752, -19.85888821, -51.86044073,\n",
       "       -24.15006438, -73.6298873 ,   6.44336141,  19.6765383 ,\n",
       "        53.30061806,  78.06882887,  -1.69462978,  56.05950365,\n",
       "        52.67915684, -69.78022475,  18.97480218,  17.70121764,\n",
       "        27.84253953,  77.02164649, -57.90952337,  25.49937669,\n",
       "        48.5055229 , -50.32216234,  -3.98805369,  27.47848403,\n",
       "       -77.37154481,  30.92345045,  28.11738021,   1.67260362,\n",
       "       -69.28436312,  40.55614838,  48.72640639, -20.82522923,\n",
       "       -15.80783462,  53.09829558,  34.15015274, -19.92084466,\n",
       "        19.48401685, -29.37579764, -59.16242432, -25.11632826,\n",
       "        68.36579751,  82.22169674])"
      ]
     },
     "execution_count": 9,
     "metadata": {},
     "output_type": "execute_result"
    }
   ],
   "source": [
    "np.random.uniform(-90.000,90.000,size=50)"
   ]
  },
  {
   "cell_type": "code",
   "execution_count": 10,
   "id": "5ccdcd9a",
   "metadata": {},
   "outputs": [],
   "source": [
    "# import timeit\n",
    "import timeit"
   ]
  },
  {
   "cell_type": "code",
   "execution_count": 11,
   "id": "6cb8b364",
   "metadata": {},
   "outputs": [
    {
     "name": "stdout",
     "output_type": "stream",
     "text": [
      "14.6 µs ± 111 ns per loop (mean ± std. dev. of 7 runs, 100000 loops each)\n"
     ]
    }
   ],
   "source": [
    "%timeit np.random.uniform(-90.000,90.000,size=1500)"
   ]
  },
  {
   "cell_type": "code",
   "execution_count": 14,
   "id": "c5bc4759",
   "metadata": {},
   "outputs": [
    {
     "name": "stdout",
     "output_type": "stream",
     "text": [
      "1.75 ms ± 4.5 µs per loop (mean ± std. dev. of 7 runs, 1000 loops each)\n"
     ]
    }
   ],
   "source": [
    "def latitudes(size):\n",
    "    latitudes = []\n",
    "    for x in range(1,(size)):\n",
    "        random_lat = random.randint(-90, 90) + random.random()\n",
    "        latitudes.append(random_lat)\n",
    "    return latitudes\n",
    "# Call the function with 1500.\n",
    "%timeit latitudes(1500)"
   ]
  },
  {
   "cell_type": "code",
   "execution_count": null,
   "id": "ad51fb49",
   "metadata": {},
   "outputs": [],
   "source": []
  }
 ],
 "metadata": {
  "kernelspec": {
   "display_name": "PythonData",
   "language": "python",
   "name": "pythondata"
  },
  "language_info": {
   "codemirror_mode": {
    "name": "ipython",
    "version": 3
   },
   "file_extension": ".py",
   "mimetype": "text/x-python",
   "name": "python",
   "nbconvert_exporter": "python",
   "pygments_lexer": "ipython3",
   "version": "3.7.10"
  }
 },
 "nbformat": 4,
 "nbformat_minor": 5
}
